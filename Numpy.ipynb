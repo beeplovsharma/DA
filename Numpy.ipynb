{
  "nbformat": 4,
  "nbformat_minor": 0,
  "metadata": {
    "colab": {
      "provenance": []
    },
    "kernelspec": {
      "name": "python3",
      "display_name": "Python 3"
    },
    "language_info": {
      "name": "python"
    }
  },
  "cells": [
    {
      "cell_type": "markdown",
      "source": [
        "# Execution Time : List vs Numpy Array"
      ],
      "metadata": {
        "id": "4d9hh7dUQY2E"
      }
    },
    {
      "cell_type": "code",
      "execution_count": 4,
      "metadata": {
        "id": "g8kPHhOtNwt_"
      },
      "outputs": [],
      "source": [
        "import numpy as np\n",
        "\n",
        "# Python lists\n",
        "arr1 = list(range(1000000))\n",
        "arr2 = list(range(1000000, 2000000))\n",
        "\n",
        "# Numpy arrays\n",
        "arr1_np = np.array(arr1)\n",
        "arr2_np = np.array(arr2)"
      ]
    },
    {
      "cell_type": "code",
      "source": [
        "%%time\n",
        "result = 0\n",
        "for x1, x2 in zip(arr1, arr2):\n",
        "    result += x1*x2\n",
        "result"
      ],
      "metadata": {
        "colab": {
          "base_uri": "https://localhost:8080/"
        },
        "id": "uMMdU7vqN1DD",
        "outputId": "7045a2ed-cdbc-4dbb-e62a-8b638d9a295c"
      },
      "execution_count": 5,
      "outputs": [
        {
          "output_type": "stream",
          "name": "stdout",
          "text": [
            "CPU times: user 196 ms, sys: 0 ns, total: 196 ms\n",
            "Wall time: 197 ms\n"
          ]
        },
        {
          "output_type": "execute_result",
          "data": {
            "text/plain": [
              "833332333333500000"
            ]
          },
          "metadata": {},
          "execution_count": 5
        }
      ]
    },
    {
      "cell_type": "code",
      "source": [
        "%%time\n",
        "np.dot(arr1_np,arr2_np)"
      ],
      "metadata": {
        "colab": {
          "base_uri": "https://localhost:8080/"
        },
        "id": "CJc43AAMPC1M",
        "outputId": "c6076795-04fb-4303-b75f-2ef72f80cf5e"
      },
      "execution_count": 6,
      "outputs": [
        {
          "output_type": "stream",
          "name": "stdout",
          "text": [
            "CPU times: user 3.16 ms, sys: 13 µs, total: 3.17 ms\n",
            "Wall time: 3.06 ms\n"
          ]
        },
        {
          "output_type": "execute_result",
          "data": {
            "text/plain": [
              "833332333333500000"
            ]
          },
          "metadata": {},
          "execution_count": 6
        }
      ]
    },
    {
      "cell_type": "markdown",
      "source": [
        "# Create Numpy Array - 1d,2d,3d"
      ],
      "metadata": {
        "id": "n5zZGcgaTSn9"
      }
    },
    {
      "cell_type": "code",
      "source": [
        "arr_1d = np.array([1,2,3,4])\n",
        "print(arr_1d)"
      ],
      "metadata": {
        "colab": {
          "base_uri": "https://localhost:8080/"
        },
        "id": "r26c-7l-PQAC",
        "outputId": "2880c955-b457-4252-a65d-3103e73600be"
      },
      "execution_count": 14,
      "outputs": [
        {
          "output_type": "stream",
          "name": "stdout",
          "text": [
            "[1 2 3 4]\n"
          ]
        }
      ]
    },
    {
      "cell_type": "code",
      "source": [
        "arr_1d.shape\n"
      ],
      "metadata": {
        "colab": {
          "base_uri": "https://localhost:8080/"
        },
        "id": "_w6h0ZnWR_jv",
        "outputId": "1e524b5c-8505-4478-b332-f8168a04f00f"
      },
      "execution_count": 15,
      "outputs": [
        {
          "output_type": "execute_result",
          "data": {
            "text/plain": [
              "(4,)"
            ]
          },
          "metadata": {},
          "execution_count": 15
        }
      ]
    },
    {
      "cell_type": "code",
      "source": [
        "arr_2d = np.array([(1,2,3,4),(3,4,5,6)])\n",
        "arr_2d"
      ],
      "metadata": {
        "colab": {
          "base_uri": "https://localhost:8080/"
        },
        "id": "AISk7W5JSRjc",
        "outputId": "b1de3b78-ac0e-44fa-a7ad-bbdefffbb472"
      },
      "execution_count": 16,
      "outputs": [
        {
          "output_type": "execute_result",
          "data": {
            "text/plain": [
              "array([[1, 2, 3, 4],\n",
              "       [3, 4, 5, 6]])"
            ]
          },
          "metadata": {},
          "execution_count": 16
        }
      ]
    },
    {
      "cell_type": "code",
      "source": [
        "arr_2d.shape"
      ],
      "metadata": {
        "colab": {
          "base_uri": "https://localhost:8080/"
        },
        "id": "upp827mlSZyE",
        "outputId": "fd2772a8-95b5-4157-afd3-e932c4857899"
      },
      "execution_count": 17,
      "outputs": [
        {
          "output_type": "execute_result",
          "data": {
            "text/plain": [
              "(2, 4)"
            ]
          },
          "metadata": {},
          "execution_count": 17
        }
      ]
    },
    {
      "cell_type": "code",
      "source": [
        "arr_3d = np.array([(1,2,3),(4,5,6),(7,8,9)])\n",
        "arr_3d"
      ],
      "metadata": {
        "colab": {
          "base_uri": "https://localhost:8080/"
        },
        "id": "zjfFwuM1SzfF",
        "outputId": "acf78133-661f-427e-cf70-f86e3192c97b"
      },
      "execution_count": 18,
      "outputs": [
        {
          "output_type": "execute_result",
          "data": {
            "text/plain": [
              "array([[1, 2, 3],\n",
              "       [4, 5, 6],\n",
              "       [7, 8, 9]])"
            ]
          },
          "metadata": {},
          "execution_count": 18
        }
      ]
    },
    {
      "cell_type": "code",
      "source": [
        "arr_3d.shape"
      ],
      "metadata": {
        "colab": {
          "base_uri": "https://localhost:8080/"
        },
        "id": "Ovy64npYS7Zc",
        "outputId": "80b217b3-53c2-49c4-8ba7-3091dadef959"
      },
      "execution_count": 30,
      "outputs": [
        {
          "output_type": "execute_result",
          "data": {
            "text/plain": [
              "(3, 3)"
            ]
          },
          "metadata": {},
          "execution_count": 30
        }
      ]
    },
    {
      "cell_type": "code",
      "source": [
        "# Make array with float values\n",
        "arr_fl = np.array([(1,2,3),(4,5,6)],dtype=float)\n",
        "arr_fl"
      ],
      "metadata": {
        "colab": {
          "base_uri": "https://localhost:8080/"
        },
        "id": "FmVD6JbaUM2t",
        "outputId": "64ef3b12-d2b3-4679-dba8-dad8be2c1c83"
      },
      "execution_count": 31,
      "outputs": [
        {
          "output_type": "execute_result",
          "data": {
            "text/plain": [
              "array([[1., 2., 3.],\n",
              "       [4., 5., 6.]])"
            ]
          },
          "metadata": {},
          "execution_count": 31
        }
      ]
    },
    {
      "cell_type": "markdown",
      "source": [
        "# Special Numpy Arrays"
      ],
      "metadata": {
        "id": "1OBq45dXTK70"
      }
    },
    {
      "cell_type": "code",
      "source": [
        "# Array with zeros\n",
        "arr_zero = np.zeros((3,5))\n",
        "arr_zero"
      ],
      "metadata": {
        "colab": {
          "base_uri": "https://localhost:8080/"
        },
        "id": "9RkyBdLbS9Pt",
        "outputId": "fded229a-04ca-41b8-ef2a-9c15b0f36a46"
      },
      "execution_count": 23,
      "outputs": [
        {
          "output_type": "execute_result",
          "data": {
            "text/plain": [
              "array([[0., 0., 0., 0., 0.],\n",
              "       [0., 0., 0., 0., 0.],\n",
              "       [0., 0., 0., 0., 0.]])"
            ]
          },
          "metadata": {},
          "execution_count": 23
        }
      ]
    },
    {
      "cell_type": "code",
      "source": [
        "# Array with ones | Make value --> int\n",
        "arr_one = np.ones((4,2),dtype=int)\n",
        "arr_one"
      ],
      "metadata": {
        "colab": {
          "base_uri": "https://localhost:8080/"
        },
        "id": "U3-KmAFYTlF0",
        "outputId": "b3a2fcef-6f1f-406d-d33f-a736ce6c2a6e"
      },
      "execution_count": 32,
      "outputs": [
        {
          "output_type": "execute_result",
          "data": {
            "text/plain": [
              "array([[1, 1],\n",
              "       [1, 1],\n",
              "       [1, 1],\n",
              "       [1, 1]])"
            ]
          },
          "metadata": {},
          "execution_count": 32
        }
      ]
    },
    {
      "cell_type": "code",
      "source": [
        "# 3x2 matrix filled with 5\n",
        "arr_desired = np.full((3,2),5)\n",
        "arr_desired"
      ],
      "metadata": {
        "colab": {
          "base_uri": "https://localhost:8080/"
        },
        "id": "XblLO7zpT20M",
        "outputId": "ae24f627-e44d-4d03-c66a-f8f3097acbd0"
      },
      "execution_count": 28,
      "outputs": [
        {
          "output_type": "execute_result",
          "data": {
            "text/plain": [
              "array([[5, 5],\n",
              "       [5, 5],\n",
              "       [5, 5]])"
            ]
          },
          "metadata": {},
          "execution_count": 28
        }
      ]
    },
    {
      "cell_type": "code",
      "source": [
        "# Make identity matrix\n",
        "arr_iden = np.eye(4)\n",
        "arr_iden"
      ],
      "metadata": {
        "colab": {
          "base_uri": "https://localhost:8080/"
        },
        "id": "IF8v33AcUBCm",
        "outputId": "2ced4c0f-e356-4d3b-abff-643e82892abe"
      },
      "execution_count": 35,
      "outputs": [
        {
          "output_type": "execute_result",
          "data": {
            "text/plain": [
              "array([[1., 0., 0., 0.],\n",
              "       [0., 1., 0., 0.],\n",
              "       [0., 0., 1., 0.],\n",
              "       [0., 0., 0., 1.]])"
            ]
          },
          "metadata": {},
          "execution_count": 35
        }
      ]
    },
    {
      "cell_type": "code",
      "source": [
        "# Make Array With Random Values lies bw 0 to 1\n",
        "arr_ran1 = np.random.random((3,4))\n",
        "print(arr_ran1)"
      ],
      "metadata": {
        "colab": {
          "base_uri": "https://localhost:8080/"
        },
        "id": "I49KUpeMVFe1",
        "outputId": "68bad560-6198-4025-de5e-695e1108ee11"
      },
      "execution_count": 41,
      "outputs": [
        {
          "output_type": "stream",
          "name": "stdout",
          "text": [
            "[[0.18072768 0.75854583 0.72774267 0.48284507]\n",
            " [0.22018632 0.41328085 0.28639383 0.60756325]\n",
            " [0.12851565 0.58815906 0.2687903  0.78675716]]\n"
          ]
        }
      ]
    },
    {
      "cell_type": "code",
      "source": [
        "# Make Array With Random Desired Range ---> (min,max,(row,col))\n",
        "arr_ran2 = np.random.randint(10,20,(3,4))\n",
        "print(arr_ran2)"
      ],
      "metadata": {
        "colab": {
          "base_uri": "https://localhost:8080/"
        },
        "id": "xS_pn7wcWJQl",
        "outputId": "136c8426-6e75-4aa8-9f4b-a05cdf63f90b"
      },
      "execution_count": 43,
      "outputs": [
        {
          "output_type": "stream",
          "name": "stdout",
          "text": [
            "[[19 11 12 19]\n",
            " [10 18 19 19]\n",
            " [17 10 17 12]]\n"
          ]
        }
      ]
    },
    {
      "cell_type": "code",
      "source": [
        "# For Only One Element lies in range\n",
        "arr_ran2 = np.random.randint(10,20)\n",
        "print(arr_ran2)"
      ],
      "metadata": {
        "colab": {
          "base_uri": "https://localhost:8080/"
        },
        "id": "v8ltPQWkXgPm",
        "outputId": "ed244e46-da5e-43b0-cbdd-314fa23fd79e"
      },
      "execution_count": 48,
      "outputs": [
        {
          "output_type": "stream",
          "name": "stdout",
          "text": [
            "18\n"
          ]
        }
      ]
    },
    {
      "cell_type": "code",
      "source": [
        "# Generate Array with Random Values --> row,col ko bracket me mat daalna\n",
        "arr_ran3 = np.random.randn(3,5)\n",
        "arr_ran3"
      ],
      "metadata": {
        "colab": {
          "base_uri": "https://localhost:8080/"
        },
        "id": "wFvAju5cXo31",
        "outputId": "a38c15b6-b911-48d7-8fb9-447c5bc5a77a"
      },
      "execution_count": 53,
      "outputs": [
        {
          "output_type": "execute_result",
          "data": {
            "text/plain": [
              "array([[-0.75726438,  0.04985153,  0.05366542,  2.53276803, -0.13045198],\n",
              "       [ 0.27629943, -0.67007684,  1.26643086,  1.31013942, -0.47762584],\n",
              "       [-0.8182642 , -0.73075372, -1.02522367,  0.56910031,  1.30819962]])"
            ]
          },
          "metadata": {},
          "execution_count": 53
        }
      ]
    },
    {
      "cell_type": "code",
      "source": [
        "# Create 1D array with evenly distributed in a given range : (min,max,no_of_values)\n",
        "arr_lin = np.linspace(2,10,8)\n",
        "arr_lin"
      ],
      "metadata": {
        "colab": {
          "base_uri": "https://localhost:8080/"
        },
        "id": "dRrVkO1JYML2",
        "outputId": "afa2c952-6ae6-47f8-a5f6-45cbbb84b9f0"
      },
      "execution_count": 58,
      "outputs": [
        {
          "output_type": "execute_result",
          "data": {
            "text/plain": [
              "array([ 2.        ,  3.14285714,  4.28571429,  5.42857143,  6.57142857,\n",
              "        7.71428571,  8.85714286, 10.        ])"
            ]
          },
          "metadata": {},
          "execution_count": 58
        }
      ]
    },
    {
      "cell_type": "code",
      "source": [
        "# Create 1D array distributed by comm diff in a given range : (min,max,common_diff)\n",
        "arr_arange = np.arange(2,10,3)\n",
        "arr_arange"
      ],
      "metadata": {
        "colab": {
          "base_uri": "https://localhost:8080/"
        },
        "id": "WQtJbkV-Yjge",
        "outputId": "74efa2a6-7b4c-42ac-9ec9-1e20057f826d"
      },
      "execution_count": 59,
      "outputs": [
        {
          "output_type": "execute_result",
          "data": {
            "text/plain": [
              "array([2, 5, 8])"
            ]
          },
          "metadata": {},
          "execution_count": 59
        }
      ]
    },
    {
      "cell_type": "markdown",
      "source": [
        "# Analysing Numpy Array"
      ],
      "metadata": {
        "id": "InJMXfiAaBwu"
      }
    },
    {
      "cell_type": "code",
      "source": [
        "# Making Random Array of 5x5\n",
        "arr_rand = np.random.randint(1,10,(5,5))\n",
        "print(arr_rand)"
      ],
      "metadata": {
        "colab": {
          "base_uri": "https://localhost:8080/"
        },
        "id": "mEeSafnVZEsV",
        "outputId": "a6a637b0-891f-439b-936c-66097241e78a"
      },
      "execution_count": 60,
      "outputs": [
        {
          "output_type": "stream",
          "name": "stdout",
          "text": [
            "[[6 6 7 5 1]\n",
            " [6 9 5 2 9]\n",
            " [8 5 8 2 6]\n",
            " [8 7 2 4 9]\n",
            " [3 2 2 2 2]]\n"
          ]
        }
      ]
    },
    {
      "cell_type": "code",
      "source": [
        "# Find Dimension\n",
        "print(arr_rand.shape)"
      ],
      "metadata": {
        "colab": {
          "base_uri": "https://localhost:8080/"
        },
        "id": "Nl3R7FIMZ4Dv",
        "outputId": "c58ee13e-61c2-46d0-e6b5-e5d0702a1d11"
      },
      "execution_count": 61,
      "outputs": [
        {
          "output_type": "stream",
          "name": "stdout",
          "text": [
            "(5, 5)\n"
          ]
        }
      ]
    },
    {
      "cell_type": "code",
      "source": [
        "# Number of Dimensions\n",
        "print(arr_rand.ndim)"
      ],
      "metadata": {
        "colab": {
          "base_uri": "https://localhost:8080/"
        },
        "id": "Z4FReypNaIme",
        "outputId": "d1b38507-1358-42a0-e651-176b213905c7"
      },
      "execution_count": 62,
      "outputs": [
        {
          "output_type": "stream",
          "name": "stdout",
          "text": [
            "2\n"
          ]
        }
      ]
    },
    {
      "cell_type": "code",
      "source": [
        "# No of elements in array\n",
        "arr_rand.size"
      ],
      "metadata": {
        "colab": {
          "base_uri": "https://localhost:8080/"
        },
        "id": "tOzaNgf0aO2P",
        "outputId": "22f8506e-ee17-4b9b-a53f-c773f962a47e"
      },
      "execution_count": 63,
      "outputs": [
        {
          "output_type": "execute_result",
          "data": {
            "text/plain": [
              "25"
            ]
          },
          "metadata": {},
          "execution_count": 63
        }
      ]
    },
    {
      "cell_type": "code",
      "source": [
        "# Checking Data Type\n",
        "arr_rand.dtype"
      ],
      "metadata": {
        "colab": {
          "base_uri": "https://localhost:8080/"
        },
        "id": "7CaEV5H1ahEm",
        "outputId": "8d7b9775-b3ab-478b-b4f7-af72392c370e"
      },
      "execution_count": 65,
      "outputs": [
        {
          "output_type": "execute_result",
          "data": {
            "text/plain": [
              "dtype('int64')"
            ]
          },
          "metadata": {},
          "execution_count": 65
        }
      ]
    },
    {
      "cell_type": "markdown",
      "source": [
        "# Mathematical Operations"
      ],
      "metadata": {
        "id": "Pfg7u4j3bQvY"
      }
    },
    {
      "cell_type": "code",
      "source": [
        "# If we apply addition on list, it gets concatenated\n",
        "list1 = [1,2,3]\n",
        "list2 = [4,5,6]\n",
        "print(list1+list2)"
      ],
      "metadata": {
        "colab": {
          "base_uri": "https://localhost:8080/"
        },
        "id": "i84znoNeamWH",
        "outputId": "4c09336d-1d0b-4010-930e-dd7f469ee137"
      },
      "execution_count": 66,
      "outputs": [
        {
          "output_type": "stream",
          "name": "stdout",
          "text": [
            "[1, 2, 3, 4, 5, 6]\n"
          ]
        }
      ]
    },
    {
      "cell_type": "code",
      "source": [
        "# We can perform these operation on numpy arrays\n",
        "a = np.array(list1)\n",
        "b = np.array(list2)\n",
        "print(\"Sum :\",a+b)\n",
        "print(\"Subtract :\",a-b)\n",
        "print(\"Multiply :\",a*b)\n",
        "print(\"Divide :\",a/b)"
      ],
      "metadata": {
        "colab": {
          "base_uri": "https://localhost:8080/"
        },
        "id": "_m2fIlvIbN4Q",
        "outputId": "c142b7ae-c9b1-4e04-a84f-ca9373c8d06f"
      },
      "execution_count": 70,
      "outputs": [
        {
          "output_type": "stream",
          "name": "stdout",
          "text": [
            "Sum : [5 7 9]\n",
            "Subtract : [-3 -3 -3]\n",
            "Multiply : [ 4 10 18]\n",
            "Divide : [0.25 0.4  0.5 ]\n"
          ]
        }
      ]
    },
    {
      "cell_type": "code",
      "source": [
        "# Other Ways of doing the same\n",
        "a = np.random.randint(1,5,(3,3))\n",
        "b = np.random.randint(5,10,(3,3))\n",
        "print(a)\n",
        "print(b)"
      ],
      "metadata": {
        "colab": {
          "base_uri": "https://localhost:8080/"
        },
        "id": "bzWEGnVabno3",
        "outputId": "5f4dfae9-42b3-4fc2-dae9-d1ee4ced8e47"
      },
      "execution_count": 71,
      "outputs": [
        {
          "output_type": "stream",
          "name": "stdout",
          "text": [
            "[[3 3 4]\n",
            " [4 3 3]\n",
            " [1 3 3]]\n",
            "[[5 6 9]\n",
            " [5 7 9]\n",
            " [8 5 7]]\n"
          ]
        }
      ]
    },
    {
      "cell_type": "code",
      "source": [
        "print(np.add(a,b))\n",
        "print(np.subtract(a,b))\n",
        "print(np.multiply(a,b))\n",
        "print(np.divide(a,b))"
      ],
      "metadata": {
        "colab": {
          "base_uri": "https://localhost:8080/"
        },
        "id": "j93qBeL1cNan",
        "outputId": "92d773c9-a419-429b-9004-c5d1554a0b4c"
      },
      "execution_count": 78,
      "outputs": [
        {
          "output_type": "stream",
          "name": "stdout",
          "text": [
            "[[ 8  9 13]\n",
            " [ 9 10 12]\n",
            " [ 9  8 10]]\n",
            "[[-2 -3 -5]\n",
            " [-1 -4 -6]\n",
            " [-7 -2 -4]]\n",
            "[[15 18 36]\n",
            " [20 21 27]\n",
            " [ 8 15 21]]\n",
            "[[0.6        0.5        0.44444444]\n",
            " [0.8        0.42857143 0.33333333]\n",
            " [0.125      0.6        0.42857143]]\n"
          ]
        }
      ]
    },
    {
      "cell_type": "markdown",
      "source": [
        "# Array Manipulation"
      ],
      "metadata": {
        "id": "7Vfy2KIscxs4"
      }
    },
    {
      "cell_type": "code",
      "source": [
        "a = np.random.randint(0,10,(4,5))\n",
        "print(a)"
      ],
      "metadata": {
        "colab": {
          "base_uri": "https://localhost:8080/"
        },
        "id": "r35gSNhkdaeP",
        "outputId": "b2f111f5-7cc2-4eb5-fac8-5b9bae6ad73f"
      },
      "execution_count": 87,
      "outputs": [
        {
          "output_type": "stream",
          "name": "stdout",
          "text": [
            "[[2 5 4 0 6]\n",
            " [2 7 9 0 2]\n",
            " [3 9 7 3 8]\n",
            " [3 7 2 0 5]]\n"
          ]
        }
      ]
    },
    {
      "cell_type": "code",
      "source": [
        "# Transpose\n",
        "print(np.transpose(a))\n",
        "# print(a.T)"
      ],
      "metadata": {
        "colab": {
          "base_uri": "https://localhost:8080/"
        },
        "id": "BZhoJypicWKH",
        "outputId": "703b7794-81eb-4b3a-cb10-3fb757c8da1d"
      },
      "execution_count": 88,
      "outputs": [
        {
          "output_type": "stream",
          "name": "stdout",
          "text": [
            "[[2 2 3 3]\n",
            " [5 7 9 7]\n",
            " [4 9 7 2]\n",
            " [0 0 3 0]\n",
            " [6 2 8 5]]\n"
          ]
        }
      ]
    },
    {
      "cell_type": "code",
      "source": [
        "#Reshaping\n",
        "print(a)\n",
        "b = a.reshape(2,10)\n",
        "print(b)"
      ],
      "metadata": {
        "colab": {
          "base_uri": "https://localhost:8080/"
        },
        "id": "eQxMXVuMdqMB",
        "outputId": "dd13bef2-af72-42bf-fc49-9150ec6f6883"
      },
      "execution_count": 89,
      "outputs": [
        {
          "output_type": "stream",
          "name": "stdout",
          "text": [
            "[[2 5 4 0 6]\n",
            " [2 7 9 0 2]\n",
            " [3 9 7 3 8]\n",
            " [3 7 2 0 5]]\n",
            "[[2 5 4 0 6 2 7 9 0 2]\n",
            " [3 9 7 3 8 3 7 2 0 5]]\n"
          ]
        }
      ]
    },
    {
      "cell_type": "markdown",
      "source": [
        "# Miscellaneous Part"
      ],
      "metadata": {
        "id": "m1Jo63QPeyLp"
      }
    },
    {
      "cell_type": "code",
      "source": [
        "rand_arr = np.random.randint(1,20,(4,5))\n",
        "print(rand_arr)"
      ],
      "metadata": {
        "colab": {
          "base_uri": "https://localhost:8080/"
        },
        "id": "_NNB5uooeDyY",
        "outputId": "ef03e079-b5ec-416d-c84b-e603c2771153"
      },
      "execution_count": 91,
      "outputs": [
        {
          "output_type": "stream",
          "name": "stdout",
          "text": [
            "[[ 5  6 19  9  5]\n",
            " [ 3  9 18  3 16]\n",
            " [14 12 15 12  8]\n",
            " [ 5  5  7 13 10]]\n"
          ]
        }
      ]
    },
    {
      "cell_type": "code",
      "source": [
        "# Accessing all the elem greater than 5\n",
        "rand_arr[rand_arr>5]"
      ],
      "metadata": {
        "colab": {
          "base_uri": "https://localhost:8080/"
        },
        "id": "jarTkeXVexGq",
        "outputId": "c16726b1-2869-41e0-8dc7-62da981afe49"
      },
      "execution_count": 92,
      "outputs": [
        {
          "output_type": "execute_result",
          "data": {
            "text/plain": [
              "array([ 6, 19,  9,  9, 18, 16, 14, 12, 15, 12,  8,  7, 13, 10])"
            ]
          },
          "metadata": {},
          "execution_count": 92
        }
      ]
    },
    {
      "cell_type": "code",
      "source": [
        "# Multiplying with number\n",
        "print(rand_arr)\n",
        "print(rand_arr*2)"
      ],
      "metadata": {
        "colab": {
          "base_uri": "https://localhost:8080/"
        },
        "id": "F508dTB7fKNY",
        "outputId": "f3463e2f-705d-4718-b5bd-1e2740581009"
      },
      "execution_count": 93,
      "outputs": [
        {
          "output_type": "stream",
          "name": "stdout",
          "text": [
            "[[ 5  6 19  9  5]\n",
            " [ 3  9 18  3 16]\n",
            " [14 12 15 12  8]\n",
            " [ 5  5  7 13 10]]\n",
            "[[10 12 38 18 10]\n",
            " [ 6 18 36  6 32]\n",
            " [28 24 30 24 16]\n",
            " [10 10 14 26 20]]\n"
          ]
        }
      ]
    },
    {
      "cell_type": "code",
      "source": [
        "# Accessing min, max\n",
        "print(np.amin(rand_arr))\n",
        "print(np.amax(rand_arr))"
      ],
      "metadata": {
        "colab": {
          "base_uri": "https://localhost:8080/"
        },
        "id": "WxC77VhrfZyR",
        "outputId": "23b09a78-c5a4-49fe-c4af-f423570e2edd"
      },
      "execution_count": 97,
      "outputs": [
        {
          "output_type": "stream",
          "name": "stdout",
          "text": [
            "3\n",
            "19\n"
          ]
        }
      ]
    },
    {
      "cell_type": "code",
      "source": [
        "# Avg of array\n",
        "print(np.mean(rand_arr))"
      ],
      "metadata": {
        "colab": {
          "base_uri": "https://localhost:8080/"
        },
        "id": "w38OZ0_vffRY",
        "outputId": "d63e6551-ff40-4cbd-d6c8-8e1c8dcd1487"
      },
      "execution_count": 98,
      "outputs": [
        {
          "output_type": "stream",
          "name": "stdout",
          "text": [
            "9.7\n"
          ]
        }
      ]
    }
  ]
}